{
 "cells": [
  {
   "cell_type": "markdown",
   "id": "f94789ec-5081-4692-bde2-aa5869467b9c",
   "metadata": {},
   "source": [
    "# Module 22 - Biological Basis for Convolutional Neural Networks\n",
    "\n",
    "## Learning outcomes\n",
    "\n",
    "- LO 1: Dissect the LeNet-5 convolutional neural network architecture.\n",
    "- LO 2: Customise convolutional neural networks in PyTorch.\n",
    "- LO 3: Build a computer vision system that allows you to classify images into different categories.\n",
    "\n",
    "## Misc and Keywords\n",
    "\n",
    "Changing the **learning rate** in a CNN significantly affects how the model learns during training. A higher learning rate causes the model to update weights more quickly, which can speed up convergence in the early stages but may lead to instability, overshooting the optimal solution, or even failure to converge if set too high. On the other hand, a lower learning rate results in smaller, more precise weight updates, leading to more stable training but potentially very slow progress or getting stuck in local minima. In CNNs, especially when fine-tuning pretrained models, it’s common to use lower learning rates to preserve learned features. Finding the right balance is crucial; too high or too low a learning rate can hinder performance. Many practitioners use learning rate schedules or adaptive optimisers like Adam to automatically adjust the learning rate during training for optimal results.\n",
    "\n",
    "## Module Summary Description\n",
    "- Understand how neurons respond to stimuli in the visual field and how the idea was modelled as a convolution\n",
    "- Understand each filter in the LeNet-5 architecutre and what it does to a computer image\n",
    "- Learn how CNNs optimise filters in an automatic way\n",
    "- Use PyTorch to run your own CNN\n"
   ]
  },
  {
   "cell_type": "markdown",
   "id": "ec95e4f0-22e3-4904-966a-16dfab4e9c43",
   "metadata": {},
   "source": [
    "## CNNs\n",
    "\n",
    "CNNs are one of the few neural network architectures where the anology with biological systems is most realistic\n",
    "\n",
    "### Dissecting the LeNet\n",
    "\n",
    "CNNs consist of three blocks:\n",
    "- Convolutional layers\n",
    "- Pooling layers\n",
    "- Fully connected layers\n",
    "\n",
    "A typical structure consists of a stack of alterante convoultional layers and pooling layers, and towards the end a fully connected layer.\n",
    "\n",
    "In many CNNs it is better to use less layers, and better hyperparameter optmisation. \n",
    "\n",
    "### CNN Parameters\n",
    "\n",
    "There are four key parameters to compute the dimensions of outputs of images and, in general, tensors going through a convolution layer:\n",
    "\n",
    "- The size of the image in pixels: $\\text{H x W x C}$\n",
    "- The size of the filter: $\\text{F}$\n",
    "- The stride size of the filter: $\\text{S}$\n",
    "- The amount of padding you have added to the original image or tensor: $\\text{P}$\n",
    "\n",
    "The *stride* specifies how large the steps are of the moving window of the filter. \n",
    "\n",
    "The size of the *filter* is the dimension of the matrix representing the filter. \n",
    "\n",
    "Finally, you have the amount of padding pre-filter application. The padding is a pre-processing trick in which you add zeros around the borders of the image (zero-padding)\n",
    "\n",
    "To compute the output dimensions of a tensor after it has gone through a filter. If the convolution layer has filter size $\\text{F}$, padding $\\text{P}$ and stride $\\text{S}$:\n",
    "\n",
    "$$H_{\\text{out}}=\\frac{H_{\\text{in}}-F+2P}{S}+1$$\n",
    "$$W_{\\text{out}}=\\frac{W_{\\text{in}}-F+2P}{S}+1$$\n",
    "\n",
    "Where $H_{\\text{in}}$ and $H_{\\text{out}}$ are the heights of the input and output respectively. The same applies for the widths."
   ]
  }
 ],
 "metadata": {
  "kernelspec": {
   "display_name": "BaseGPU",
   "language": "python",
   "name": "basegpu"
  },
  "language_info": {
   "codemirror_mode": {
    "name": "ipython",
    "version": 3
   },
   "file_extension": ".py",
   "mimetype": "text/x-python",
   "name": "python",
   "nbconvert_exporter": "python",
   "pygments_lexer": "ipython3",
   "version": "3.11.10"
  }
 },
 "nbformat": 4,
 "nbformat_minor": 5
}
